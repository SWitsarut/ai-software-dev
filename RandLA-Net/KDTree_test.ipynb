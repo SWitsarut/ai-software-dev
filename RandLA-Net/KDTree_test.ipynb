{
 "cells": [
  {
   "cell_type": "code",
   "execution_count": 2,
   "metadata": {},
   "outputs": [
    {
     "name": "stdout",
     "output_type": "stream",
     "text": [
      "[[6.78818730e+05 1.51456634e+06 7.64000000e+00 1.50000000e+01]\n",
      " [6.78818700e+05 1.51456633e+06 7.58000000e+00 3.40000000e+01]\n",
      " [6.78818680e+05 1.51456631e+06 7.54000000e+00 1.30000000e+01]\n",
      " ...\n",
      " [6.78814830e+05 1.51457840e+06 2.80000000e-01 7.00000000e+00]\n",
      " [6.78813380e+05 1.51457999e+06 4.20000000e-01 1.20000000e+01]\n",
      " [6.78817050e+05 1.51457930e+06 6.40000000e-01 1.70000000e+01]]\n",
      "(6000000, 4)\n"
     ]
    }
   ],
   "source": [
    "from sklearn.neighbors import KDTree\n",
    "import numpy as np\n",
    "\n",
    "data = np.fromfile('./test_data/2024-05-27-11-39-07_Velodyne-VLS-128-Data_out.bin')\n",
    "data =data.reshape(-1,4)\n",
    "print(data)\n",
    "print(data.shape)"
   ]
  },
  {
   "cell_type": "code",
   "execution_count": 4,
   "metadata": {},
   "outputs": [],
   "source": [
    "from sklearn.neighbors import KDTree\n",
    "import numpy as np\n",
    "\n",
    "tree =np.load('./test_data_prepared_0.06/KDTree/2024-05-27-11-39-07_Velodyne-VLS-128-Data_out.pkl')\n",
    "points = np.array(tree.data, copy=False)"
   ]
  },
  {
   "cell_type": "code",
   "execution_count": 7,
   "metadata": {},
   "outputs": [
    {
     "name": "stdout",
     "output_type": "stream",
     "text": [
      "[[ 2.02441176e+34  2.89700508e+00  0.00000000e+00]\n",
      " [ 2.22011771e+34  2.84684348e+00  0.00000000e+00]\n",
      " [ 2.74902264e+34  2.78745079e+00  0.00000000e+00]\n",
      " [ 2.31302832e+34  2.73064089e+00  0.00000000e+00]\n",
      " [ 2.29426363e+34  2.66723657e+00  0.00000000e+00]\n",
      " [ 8.91309062e+04  1.03497100e+00  0.00000000e+00]\n",
      " [ 2.39373681e+34 -2.30507445e+00  0.00000000e+00]\n",
      " [-3.21872146e+26  1.23999655e+00  0.00000000e+00]\n",
      " [ 2.35602272e+34 -2.19925761e+00  0.00000000e+00]\n",
      " [-1.62606444e+26  1.34533119e+00  0.00000000e+00]\n",
      " [-3.08039376e+31 -1.93671870e+00  0.00000000e+00]\n",
      " [-5.26323009e+25  1.59006226e+00  0.00000000e+00]\n",
      " [ 2.26673780e+22 -2.02135420e+00  0.00000000e+00]\n",
      " [ 8.58061924e+28  1.53222013e+00  0.00000000e+00]\n",
      " [-7.59982971e+13 -1.91499996e+00  0.00000000e+00]\n",
      " [ 3.81522533e+22  1.65524721e+00  0.00000000e+00]\n",
      " [ 2.53500286e+34 -2.07401061e+00  0.00000000e+00]\n",
      " [-1.09634433e+26  1.47023499e+00  0.00000000e+00]\n",
      " [ 8.73380808e+28 -1.53229725e+00  0.00000000e+00]\n",
      " [            inf  2.01146269e+00  0.00000000e+00]\n",
      " [-1.00437319e+26 -1.46934772e+00  0.00000000e+00]\n",
      " [            inf  2.06822276e+00  0.00000000e+00]\n",
      " [ 1.35367287e+29 -1.41001511e+00  0.00000000e+00]\n",
      " [            inf  2.12988520e+00  0.00000000e+00]\n",
      " [            inf  2.60331225e+00  0.00000000e+00]\n",
      " [-1.56556115e+26 -1.34454012e+00  0.00000000e+00]\n",
      " [            inf  2.19001436e+00  0.00000000e+00]\n",
      " [ 8.91317422e+04 -1.28496873e+00  0.00000000e+00]\n",
      " [            inf  2.25065851e+00  0.00000000e+00]\n",
      " [-3.21871408e+26 -1.23999119e+00  0.00000000e+00]\n",
      " [            inf  2.31017303e+00  0.00000000e+00]\n",
      " [ 8.91320391e+04 -1.15997052e+00  0.00000000e+00]\n",
      " [            inf  2.36614799e+00  0.00000000e+00]\n",
      " [            inf  2.55167270e+00  0.00000000e+00]\n",
      " [            inf  2.42814112e+00  0.00000000e+00]\n",
      " [ 8.91317344e+04 -1.03497541e+00  0.00000000e+00]\n",
      " [            inf  2.49355078e+00  0.00000000e+00]\n",
      " [           -inf  1.09429293e+01            -inf]\n",
      " [ 3.07562043e+34 -1.81500006e+00  0.00000000e+00]\n",
      " [            inf  1.71640730e+00  0.00000000e+00]\n",
      " [            inf  1.81861222e+00  0.00000000e+00]\n",
      " [            inf -1.69543350e+00  0.00000000e+00]\n",
      " [ 0.00000000e+00  0.00000000e+00  0.00000000e+00]\n",
      " [-1.15230641e+32 -1.75564575e+00  0.00000000e+00]\n",
      " [-1.19537763e+31  1.82538116e+00  0.00000000e+00]\n",
      " [            inf  1.95134497e+00  0.00000000e+00]\n",
      " [-6.02742751e+25 -1.59360993e+00  0.00000000e+00]\n",
      " [ 4.96839757e+21 -1.64017189e+00  0.00000000e+00]\n",
      " [            inf  1.88970125e+00  0.00000000e+00]\n",
      " [ 1.66962124e+34 -2.34574032e+00  0.00000000e+00]\n",
      " [ 8.91305391e+04  1.15996277e+00  0.00000000e+00]\n",
      " [ 1.19113365e+34 -2.23892975e+00  0.00000000e+00]\n",
      " [ 8.91297188e+04  1.28499019e+00  0.00000000e+00]\n",
      " [ 2.73596658e+34 -2.11853266e+00  0.00000000e+00]\n",
      " [ 1.38420788e+29  1.41036451e+00  0.00000000e+00]]\n",
      "(55, 3)\n"
     ]
    }
   ],
   "source": [
    "print(points)\n",
    "print(points.shape)\n"
   ]
  },
  {
   "cell_type": "code",
   "execution_count": 8,
   "metadata": {},
   "outputs": [
    {
     "name": "stdout",
     "output_type": "stream",
     "text": [
      "[[ 2.02441176e+34  2.89700508e+00  0.00000000e+00]\n",
      " [ 2.22011771e+34  2.84684348e+00  0.00000000e+00]\n",
      " [ 2.74902264e+34  2.78745079e+00  0.00000000e+00]\n",
      " [ 2.31302832e+34  2.73064089e+00  0.00000000e+00]\n",
      " [ 2.29426363e+34  2.66723657e+00  0.00000000e+00]\n",
      " [ 8.91309062e+04  1.03497100e+00  0.00000000e+00]\n",
      " [ 2.39373681e+34 -2.30507445e+00  0.00000000e+00]\n",
      " [-3.21872146e+26  1.23999655e+00  0.00000000e+00]\n",
      " [ 2.35602272e+34 -2.19925761e+00  0.00000000e+00]\n",
      " [-1.62606444e+26  1.34533119e+00  0.00000000e+00]\n",
      " [-3.08039376e+31 -1.93671870e+00  0.00000000e+00]\n",
      " [-5.26323009e+25  1.59006226e+00  0.00000000e+00]\n",
      " [ 2.26673780e+22 -2.02135420e+00  0.00000000e+00]\n",
      " [ 8.58061924e+28  1.53222013e+00  0.00000000e+00]\n",
      " [-7.59982971e+13 -1.91499996e+00  0.00000000e+00]\n",
      " [ 3.81522533e+22  1.65524721e+00  0.00000000e+00]\n",
      " [ 2.53500286e+34 -2.07401061e+00  0.00000000e+00]\n",
      " [-1.09634433e+26  1.47023499e+00  0.00000000e+00]\n",
      " [ 8.73380808e+28 -1.53229725e+00  0.00000000e+00]\n",
      " [            inf  2.01146269e+00  0.00000000e+00]\n",
      " [-1.00437319e+26 -1.46934772e+00  0.00000000e+00]\n",
      " [            inf  2.06822276e+00  0.00000000e+00]\n",
      " [ 1.35367287e+29 -1.41001511e+00  0.00000000e+00]\n",
      " [            inf  2.12988520e+00  0.00000000e+00]\n",
      " [            inf  2.60331225e+00  0.00000000e+00]\n",
      " [-1.56556115e+26 -1.34454012e+00  0.00000000e+00]\n",
      " [            inf  2.19001436e+00  0.00000000e+00]\n",
      " [ 8.91317422e+04 -1.28496873e+00  0.00000000e+00]\n",
      " [            inf  2.25065851e+00  0.00000000e+00]\n",
      " [-3.21871408e+26 -1.23999119e+00  0.00000000e+00]\n",
      " [            inf  2.31017303e+00  0.00000000e+00]\n",
      " [ 8.91320391e+04 -1.15997052e+00  0.00000000e+00]\n",
      " [            inf  2.36614799e+00  0.00000000e+00]\n",
      " [            inf  2.55167270e+00  0.00000000e+00]\n",
      " [            inf  2.42814112e+00  0.00000000e+00]\n",
      " [ 8.91317344e+04 -1.03497541e+00  0.00000000e+00]\n",
      " [            inf  2.49355078e+00  0.00000000e+00]\n",
      " [           -inf  1.09429293e+01            -inf]\n",
      " [ 3.07562043e+34 -1.81500006e+00  0.00000000e+00]\n",
      " [            inf  1.71640730e+00  0.00000000e+00]\n",
      " [            inf  1.81861222e+00  0.00000000e+00]\n",
      " [            inf -1.69543350e+00  0.00000000e+00]\n",
      " [ 0.00000000e+00  0.00000000e+00  0.00000000e+00]\n",
      " [-1.15230641e+32 -1.75564575e+00  0.00000000e+00]\n",
      " [-1.19537763e+31  1.82538116e+00  0.00000000e+00]\n",
      " [            inf  1.95134497e+00  0.00000000e+00]\n",
      " [-6.02742751e+25 -1.59360993e+00  0.00000000e+00]\n",
      " [ 4.96839757e+21 -1.64017189e+00  0.00000000e+00]\n",
      " [            inf  1.88970125e+00  0.00000000e+00]\n",
      " [ 1.66962124e+34 -2.34574032e+00  0.00000000e+00]\n",
      " [ 8.91305391e+04  1.15996277e+00  0.00000000e+00]\n",
      " [ 1.19113365e+34 -2.23892975e+00  0.00000000e+00]\n",
      " [ 8.91297188e+04  1.28499019e+00  0.00000000e+00]\n",
      " [ 2.73596658e+34 -2.11853266e+00  0.00000000e+00]\n",
      " [ 1.38420788e+29  1.41036451e+00  0.00000000e+00]]\n",
      "(55, 3)\n"
     ]
    }
   ],
   "source": [
    "from sklearn.neighbors import KDTree\n",
    "import numpy as np\n",
    "\n",
    "tree_2 =np.load('./test_data_prepared_0.06/KDTree/2024-05-27-11-39-07_Velodyne-VLS-128-Data_out.pkl')\n",
    "points_2 = np.array(tree.data, copy=False)\n",
    "print(points)\n",
    "print(points.shape)"
   ]
  },
  {
   "cell_type": "markdown",
   "metadata": {},
   "source": [
    "## Load predicted data"
   ]
  },
  {
   "cell_type": "code",
   "execution_count": 2,
   "metadata": {},
   "outputs": [
    {
     "name": "stdout",
     "output_type": "stream",
     "text": [
      "combined_part_1.label (22500000,)\n",
      "combined_part_2.label (22500000,)\n",
      "combined_part_3.label (22500000,)\n",
      "combined_part_4.label (22500000,)\n",
      "combined_part_5.label (22500000,)\n",
      "combined_part_6.label (22500000,)\n",
      "combined_part_7.label (22500000,)\n",
      "combined_part_8.label (22500000,)\n",
      "[10]\n"
     ]
    }
   ],
   "source": [
    "import numpy as np\n",
    "import os\n",
    "\n",
    "# Path to predictions directory\n",
    "predictions_dir = './test/sequence/predictions/'\n",
    "# data_dir\n",
    "\n",
    "\n",
    "# List all .label files in the directory\n",
    "label_files = [f for f in os.listdir(predictions_dir) if f.endswith('.label')]\n",
    "\n",
    "# Initialize an empty set for unique values\n",
    "unique_values = set()\n",
    "\n",
    "# Read each file and extract unique values\n",
    "for file in label_files:\n",
    "    file_path = os.path.join(predictions_dir, file)\n",
    "    predicted_file = np.fromfile(file_path, dtype=np.uint32)\n",
    "    print(file,predicted_file.shape)\n",
    "    unique_values.update(np.unique(predicted_file))  # Add unique values to the set\n",
    "\n",
    "# Convert set to sorted numpy array for better readability\n",
    "unique_values = np.array(sorted(unique_values))\n",
    "\n",
    "print(unique_values)\n"
   ]
  },
  {
   "cell_type": "code",
   "execution_count": null,
   "metadata": {},
   "outputs": [
    {
     "name": "stdout",
     "output_type": "stream",
     "text": [
      "Original PC shape: (120066, 3)\n",
      "Prepared PC shape: (86822, 3)\n",
      "Label shape: (120066,)\n",
      "[[5.5064964e+01 2.6010770e-02 2.0709999e+00]\n",
      " [5.5056728e+01 1.9808201e-01 2.0709977e+00]\n",
      " [5.5490494e+01 3.7515527e-01 2.0859950e+00]\n",
      " [5.9143257e+01 5.8724225e-01 2.2089920e+00]]\n",
      "[[ 3.7714028 -1.3904846 -1.7467372]\n",
      " [ 3.6794991 -1.3614844 -1.7017289]\n",
      " [ 3.7266767 -1.4465044 -1.7357374]\n",
      " [ 3.7377315 -1.4540055 -1.7417389]]\n",
      "[50 50 50 ... 48 48 48]\n"
     ]
    }
   ],
   "source": [
    "import os\n",
    "import numpy as np\n",
    "\n",
    "def load_pc_kitti(pc_path):\n",
    "    scan = np.fromfile(pc_path, dtype=np.float32)\n",
    "    scan = scan.reshape((-1, 4))\n",
    "    points = scan[:, 0:3]  # get xyz\n",
    "    return points\n",
    "\n",
    "\n",
    "\n",
    "datadir = '../data_converter/semantic_kitti/dataset/sequences/14/velodyne/000000.bin'\n",
    "prepared = 'semantic_prepared/velodyne/000000.npy'\n",
    "labeldir = \"test/sequences/predictions/000000.label\"\n",
    "pc = load_pc_kitti(datadir)\n",
    "pc_prepared = np.load(prepared)\n",
    "label = np.fromfile(labeldir,dtype=np.uint32)\n",
    "\n",
    "# print shape\n",
    "print(\"Original PC shape:\", pc.shape)\n",
    "print(\"Prepared PC shape:\", pc_prepared.shape)\n",
    "print(\"Label shape:\", label.shape)\n",
    "\n",
    "\n",
    "\n",
    "print(pc[:4])\n",
    "print(pc_prepared[:4])\n",
    "print(label)\n",
    "\n"
   ]
  },
  {
   "cell_type": "code",
   "execution_count": null,
   "metadata": {},
   "outputs": [
    {
     "ename": "SyntaxError",
     "evalue": "invalid syntax (vlrlist.py, line 30)",
     "output_type": "error",
     "traceback": [
      "Traceback \u001b[0;36m(most recent call last)\u001b[0m:\n",
      "  File \u001b[1;32m\"/home/suea/anaconda3/envs/randlanet/lib/python3.5/site-packages/IPython/core/interactiveshell.py\"\u001b[0m, line \u001b[1;32m3326\u001b[0m, in \u001b[1;35mrun_code\u001b[0m\n    exec(code_obj, self.user_global_ns, self.user_ns)\n",
      "  File \u001b[1;32m\"<ipython-input-5-a43804e369e5>\"\u001b[0m, line \u001b[1;32m2\u001b[0m, in \u001b[1;35m<module>\u001b[0m\n    import laspy\n",
      "  File \u001b[1;32m\"/home/suea/anaconda3/envs/randlanet/lib/python3.5/site-packages/laspy/__init__.py\"\u001b[0m, line \u001b[1;32m5\u001b[0m, in \u001b[1;35m<module>\u001b[0m\n    from . import errors, vlrs, file\n",
      "  File \u001b[1;32m\"/home/suea/anaconda3/envs/randlanet/lib/python3.5/site-packages/laspy/vlrs/__init__.py\"\u001b[0m, line \u001b[1;32m1\u001b[0m, in \u001b[1;35m<module>\u001b[0m\n    from . import geotiff\n",
      "\u001b[0;36m  File \u001b[0;32m\"/home/suea/anaconda3/envs/randlanet/lib/python3.5/site-packages/laspy/vlrs/geotiff.py\"\u001b[0;36m, line \u001b[0;32m5\u001b[0;36m, in \u001b[0;35m<module>\u001b[0;36m\u001b[0m\n\u001b[0;31m    from . import vlrlist\u001b[0m\n",
      "\u001b[0;36m  File \u001b[0;32m\"/home/suea/anaconda3/envs/randlanet/lib/python3.5/site-packages/laspy/vlrs/vlrlist.py\"\u001b[0;36m, line \u001b[0;32m30\u001b[0m\n\u001b[0;31m    raise ValueError(f\"VLR '{value}' could not be found in the list\")\u001b[0m\n\u001b[0m                                                                   ^\u001b[0m\n\u001b[0;31mSyntaxError\u001b[0m\u001b[0;31m:\u001b[0m invalid syntax\n"
     ]
    }
   ],
   "source": [
    "import laspy\n",
    "import numpy as np\n",
    "import open3d as o3d\n",
    "\n",
    "# Load LAS file\n",
    "def load_las(las_file):\n",
    "    las = laspy.read(las_file)\n",
    "    xyz = np.vstack([las.x, las.y, las.z]).transpose()  # Extract XYZ coordinates\n",
    "    return xyz\n",
    "\n",
    "# Convert LAS to PLY\n",
    "def convert_las_to_ply(las_file, ply_file):\n",
    "    # Read LAS file\n",
    "    points = load_las(las_file)\n",
    "    \n",
    "    # Create an Open3D point cloud object\n",
    "    point_cloud = o3d.geometry.PointCloud()\n",
    "    \n",
    "    # Set the points (the xyz values)\n",
    "    point_cloud.points = o3d.utility.Vector3dVector(points)\n",
    "    \n",
    "    # Optionally, add intensity or color to the point cloud (if needed)\n",
    "    # point_cloud.colors = o3d.utility.Vector3dVector(colors)  # Colors should be normalized to [0, 1]\n",
    "    \n",
    "    # Write to PLY\n",
    "    o3d.io.write_point_cloud(ply_file, point_cloud)\n",
    "    print(f\"PLY file saved at {ply_file}\")\n",
    "\n",
    "# Example usage\n",
    "las_file = './output.las'\n",
    "ply_file = 'output.ply'\n",
    "convert_las_to_ply(las_file, ply_file)\n"
   ]
  },
  {
   "cell_type": "code",
   "execution_count": null,
   "metadata": {},
   "outputs": [],
   "source": []
  }
 ],
 "metadata": {
  "kernelspec": {
   "display_name": "randlanet",
   "language": "python",
   "name": "python3"
  },
  "language_info": {
   "codemirror_mode": {
    "name": "ipython",
    "version": 3
   },
   "file_extension": ".py",
   "mimetype": "text/x-python",
   "name": "python",
   "nbconvert_exporter": "python",
   "pygments_lexer": "ipython3",
   "version": "3.6.13"
  }
 },
 "nbformat": 4,
 "nbformat_minor": 2
}
